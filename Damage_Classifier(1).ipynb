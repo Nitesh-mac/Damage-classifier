{
  "nbformat": 4,
  "nbformat_minor": 0,
  "metadata": {
    "colab": {
      "name": "Damage_Classifier.ipynb",
      "provenance": []
    },
    "kernelspec": {
      "name": "python3",
      "display_name": "Python 3"
    },
    "language_info": {
      "name": "python"
    }
  },
  "cells": [
    {
      "cell_type": "code",
      "metadata": {
        "colab": {
          "base_uri": "https://localhost:8080/"
        },
        "id": "Ms9NZj-lpaJ6",
        "outputId": "a8d073d8-7a90-4a68-ab17-73955dec458c"
      },
      "source": [
        "from google.colab import drive\n",
        "drive.mount('/content/drive')"
      ],
      "execution_count": null,
      "outputs": [
        {
          "output_type": "stream",
          "name": "stdout",
          "text": [
            "Mounted at /content/drive\n"
          ]
        }
      ]
    },
    {
      "cell_type": "code",
      "metadata": {
        "id": "WWxHVLf1tfxw"
      },
      "source": [
        "import tensorflow as tf\n"
      ],
      "execution_count": null,
      "outputs": []
    },
    {
      "cell_type": "code",
      "metadata": {
        "id": "Y1ZJQ9pitftD"
      },
      "source": [
        "import os\n"
      ],
      "execution_count": null,
      "outputs": []
    },
    {
      "cell_type": "code",
      "metadata": {
        "id": "EVSnPW7stfp7"
      },
      "source": [
        "import numpy as np"
      ],
      "execution_count": null,
      "outputs": []
    },
    {
      "cell_type": "code",
      "metadata": {
        "id": "zl9HC6ldtfdD"
      },
      "source": [
        "import pandas as pd"
      ],
      "execution_count": null,
      "outputs": []
    },
    {
      "cell_type": "code",
      "metadata": {
        "id": "5JoGWN79s7P-"
      },
      "source": [
        "bas='/content/drive/MyDrive/data1a'"
      ],
      "execution_count": null,
      "outputs": []
    },
    {
      "cell_type": "code",
      "metadata": {
        "id": "xBUJaDcItPyk"
      },
      "source": [
        "import matplotlib.pyplot as plt\n",
        "from matplotlib.image import imread\n"
      ],
      "execution_count": null,
      "outputs": []
    },
    {
      "cell_type": "code",
      "metadata": {
        "colab": {
          "base_uri": "https://localhost:8080/"
        },
        "id": "0_5pQu-4tTSZ",
        "outputId": "07d2e92e-0836-4d18-cc6c-e713ee5f403d"
      },
      "source": [
        "os.listdir(bas)"
      ],
      "execution_count": null,
      "outputs": [
        {
          "output_type": "execute_result",
          "data": {
            "text/plain": [
              "['training', 'validation']"
            ]
          },
          "metadata": {},
          "execution_count": 8
        }
      ]
    },
    {
      "cell_type": "code",
      "metadata": {
        "id": "Og5y5NrLtXFD"
      },
      "source": [
        "test_path=bas+'/validation'\n",
        "train_pth=bas+'/training'"
      ],
      "execution_count": null,
      "outputs": []
    },
    {
      "cell_type": "code",
      "metadata": {
        "colab": {
          "base_uri": "https://localhost:8080/"
        },
        "id": "iomuxFi-tw2G",
        "outputId": "7948e818-38d4-4986-f536-beb62141c154"
      },
      "source": [
        "os.listdir(test_path)\n"
      ],
      "execution_count": null,
      "outputs": [
        {
          "output_type": "execute_result",
          "data": {
            "text/plain": [
              "['01-whole', '00-damage']"
            ]
          },
          "metadata": {},
          "execution_count": 10
        }
      ]
    },
    {
      "cell_type": "code",
      "metadata": {
        "id": "v8_nutljt0bB"
      },
      "source": [
        "dim1 = []\n",
        "dim2 = []\n",
        "for image_filename in os.listdir(train_pth+'/01-whole'):\n",
        " \n",
        " img = imread(train_pth+'/01-whole'+'/'+image_filename)\n",
        " \n",
        " dim1.append(img.shape[0])\n",
        " dim2.append(img.shape[1])"
      ],
      "execution_count": null,
      "outputs": []
    },
    {
      "cell_type": "code",
      "metadata": {
        "colab": {
          "base_uri": "https://localhost:8080/"
        },
        "id": "p_Y65VxyuPYY",
        "outputId": "f540a4b8-c538-43cc-d6ef-9d1a9ee4856e"
      },
      "source": [
        "img.shape"
      ],
      "execution_count": null,
      "outputs": [
        {
          "output_type": "execute_result",
          "data": {
            "text/plain": [
              "(169, 299, 3)"
            ]
          },
          "metadata": {},
          "execution_count": 12
        }
      ]
    },
    {
      "cell_type": "code",
      "metadata": {
        "colab": {
          "base_uri": "https://localhost:8080/"
        },
        "id": "gaQWG3S0uWPL",
        "outputId": "45c79a79-5b8f-4670-8713-a4938abbfe1e"
      },
      "source": [
        "np.mean(dim1)\n"
      ],
      "execution_count": null,
      "outputs": [
        {
          "output_type": "execute_result",
          "data": {
            "text/plain": [
              "432.90434782608696"
            ]
          },
          "metadata": {},
          "execution_count": 13
        }
      ]
    },
    {
      "cell_type": "code",
      "metadata": {
        "colab": {
          "base_uri": "https://localhost:8080/"
        },
        "id": "-uVW9COkuzs-",
        "outputId": "f24c4e57-82b6-44dc-8d25-da311fd71ad1"
      },
      "source": [
        "np.mean(dim2)"
      ],
      "execution_count": null,
      "outputs": [
        {
          "output_type": "execute_result",
          "data": {
            "text/plain": [
              "628.8445652173913"
            ]
          },
          "metadata": {},
          "execution_count": 14
        }
      ]
    },
    {
      "cell_type": "code",
      "metadata": {
        "colab": {
          "base_uri": "https://localhost:8080/"
        },
        "id": "HL6d6LaXu2i8",
        "outputId": "f3be8fbe-2115-4d77-c0fd-55793f813bbb"
      },
      "source": [
        "image_shape=(int(np.mean(dim1)),int(np.mean(dim2)),3)\n",
        "image_shape[:2]"
      ],
      "execution_count": null,
      "outputs": [
        {
          "output_type": "execute_result",
          "data": {
            "text/plain": [
              "(432, 628)"
            ]
          },
          "metadata": {},
          "execution_count": 15
        }
      ]
    },
    {
      "cell_type": "code",
      "metadata": {
        "id": "R308WRqjvIui"
      },
      "source": [
        "from tensorflow.keras.preprocessing.image import ImageDataGenerator"
      ],
      "execution_count": null,
      "outputs": []
    },
    {
      "cell_type": "code",
      "metadata": {
        "id": "rJb1CyRCvMO2"
      },
      "source": [
        "image_gen=ImageDataGenerator(rotation_range=20,# rotate the image 20 degrees\n",
        " width_shift_range=0.1,# Shift the pic width by a max of 5%\n",
        " height_shift_range=0.1,# Shift the pic height by a max of 5%\n",
        " fill_mode='nearest',# Fill in missing pixels with the nearest filled value\n",
        " shear_range=0.1,# Shear means cutting away part of the image (max 10%)\n",
        " zoom_range=0.1, # Zoom in by 10% max\n",
        " horizontal_flip=True,# Allow horizontal flipping\n",
        " rescale=1/255 # Rescale the image by normalzing it.\n",
        " \n",
        " )"
      ],
      "execution_count": null,
      "outputs": []
    },
    {
      "cell_type": "code",
      "metadata": {
        "colab": {
          "base_uri": "https://localhost:8080/"
        },
        "id": "dmI6B7q9vMLm",
        "outputId": "fe9ef93c-0d7f-4f2a-9d32-7a00eb8811bb"
      },
      "source": [
        "\n",
        "image_gen.flow_from_directory(train_pth)"
      ],
      "execution_count": null,
      "outputs": [
        {
          "output_type": "stream",
          "name": "stdout",
          "text": [
            "Found 1840 images belonging to 2 classes.\n"
          ]
        },
        {
          "output_type": "execute_result",
          "data": {
            "text/plain": [
              "<keras.preprocessing.image.DirectoryIterator at 0x7ff21d0b0a90>"
            ]
          },
          "metadata": {},
          "execution_count": 18
        }
      ]
    },
    {
      "cell_type": "code",
      "metadata": {
        "colab": {
          "base_uri": "https://localhost:8080/"
        },
        "id": "WomR5ydbvMIO",
        "outputId": "12731a85-45ab-4ec8-936d-38e80eeaa5ad"
      },
      "source": [
        "image_gen.flow_from_directory(test_path)\n"
      ],
      "execution_count": null,
      "outputs": [
        {
          "output_type": "stream",
          "name": "stdout",
          "text": [
            "Found 460 images belonging to 2 classes.\n"
          ]
        },
        {
          "output_type": "execute_result",
          "data": {
            "text/plain": [
              "<keras.preprocessing.image.DirectoryIterator at 0x7ff21d0a0950>"
            ]
          },
          "metadata": {},
          "execution_count": 19
        }
      ]
    },
    {
      "cell_type": "code",
      "metadata": {
        "id": "LPsydEHJvX1y"
      },
      "source": [
        "from tensorflow.keras.models import Sequential\n"
      ],
      "execution_count": null,
      "outputs": []
    },
    {
      "cell_type": "code",
      "metadata": {
        "id": "YtSj2OsavXye"
      },
      "source": [
        "from tensorflow.keras.layers import Dense,Conv2D,MaxPool2D,Dropout,Flatten"
      ],
      "execution_count": null,
      "outputs": []
    },
    {
      "cell_type": "code",
      "metadata": {
        "id": "93XRrsMqvbSp"
      },
      "source": [
        "model=Sequential()\n",
        "model.add(Conv2D(filters=32,kernel_size=(3,3),input_shape=image_shape,activation='relu'))\n",
        "model.add(MaxPool2D(pool_size=(2,2)))\n",
        "model.add(Conv2D(filters=64,kernel_size=(3,3),input_shape=image_shape,activation='relu'))\n",
        "model.add(MaxPool2D(pool_size=(2,2)))\n",
        "model.add(Conv2D(filters=64,kernel_size=(3,3),input_shape=image_shape,activation='relu'))\n",
        "model.add(MaxPool2D(pool_size=(2,2)))\n",
        "model.add(Flatten())\n",
        "model.add(Dense(128,activation='relu'))\n",
        "model.add(Dropout(0.5))\n",
        "model.add(Dense(1,activation='sigmoid'))\n",
        "model.compile(loss='binary_crossentropy',optimizer='adam',metrics=['accuracy'])"
      ],
      "execution_count": null,
      "outputs": []
    },
    {
      "cell_type": "code",
      "metadata": {
        "id": "nTXqPLoAvbPH"
      },
      "source": [
        "from tensorflow.keras.callbacks import EarlyStopping"
      ],
      "execution_count": null,
      "outputs": []
    },
    {
      "cell_type": "code",
      "metadata": {
        "id": "6vV5F68uvbL3"
      },
      "source": [
        "early_stop=EarlyStopping(monitor='val_loss',patience=2)"
      ],
      "execution_count": null,
      "outputs": []
    },
    {
      "cell_type": "code",
      "metadata": {
        "id": "YFImY9wgvbIf"
      },
      "source": [
        "batch_size=25"
      ],
      "execution_count": null,
      "outputs": []
    },
    {
      "cell_type": "code",
      "metadata": {
        "colab": {
          "base_uri": "https://localhost:8080/"
        },
        "id": "S7P7qzudvbFd",
        "outputId": "c43da40a-30f3-4869-a879-36aa2c00330c"
      },
      "source": [
        "train_img_gen=image_gen.flow_from_directory(train_pth,\n",
        " target_size=image_shape[:2],\n",
        " color_mode='rgb',\n",
        " batch_size=batch_size,\n",
        " class_mode='binary')\n"
      ],
      "execution_count": null,
      "outputs": [
        {
          "output_type": "stream",
          "name": "stdout",
          "text": [
            "Found 1840 images belonging to 2 classes.\n"
          ]
        }
      ]
    },
    {
      "cell_type": "code",
      "metadata": {
        "colab": {
          "base_uri": "https://localhost:8080/"
        },
        "id": "vW4bPrnFvbCd",
        "outputId": "b5a0d6ab-b167-4bb4-f617-d13bb0b73b20"
      },
      "source": [
        "test_img_gen=image_gen.flow_from_directory(test_path,\n",
        " target_size=image_shape[:2],\n",
        " color_mode='rgb',\n",
        " batch_size=batch_size,\n",
        " class_mode='binary',\n",
        " shuffle=False)"
      ],
      "execution_count": null,
      "outputs": [
        {
          "output_type": "stream",
          "name": "stdout",
          "text": [
            "Found 460 images belonging to 2 classes.\n"
          ]
        }
      ]
    },
    {
      "cell_type": "code",
      "metadata": {
        "colab": {
          "base_uri": "https://localhost:8080/"
        },
        "id": "9wlUMoE9vs2c",
        "outputId": "8b010142-2533-4054-dada-b47eaa1dd356"
      },
      "source": [
        "train_img_gen.class_indices"
      ],
      "execution_count": null,
      "outputs": [
        {
          "output_type": "execute_result",
          "data": {
            "text/plain": [
              "{'00-damage': 0, '01-whole': 1}"
            ]
          },
          "metadata": {},
          "execution_count": 28
        }
      ]
    },
    {
      "cell_type": "code",
      "metadata": {
        "colab": {
          "base_uri": "https://localhost:8080/"
        },
        "id": "lKuxdlqBvsyl",
        "outputId": "b3fd0b25-dcde-44ef-ff67-2333a18d6da7"
      },
      "source": [
        "result=model.fit_generator(train_img_gen,epochs=15,\n",
        " validation_data=test_img_gen,\n",
        " callbacks=[early_stop])"
      ],
      "execution_count": null,
      "outputs": [
        {
          "output_type": "stream",
          "name": "stderr",
          "text": [
            "/usr/local/lib/python3.7/dist-packages/ipykernel_launcher.py:3: UserWarning: `Model.fit_generator` is deprecated and will be removed in a future version. Please use `Model.fit`, which supports generators.\n",
            "  This is separate from the ipykernel package so we can avoid doing imports until\n"
          ]
        },
        {
          "output_type": "stream",
          "name": "stdout",
          "text": [
            "Epoch 1/15\n",
            "74/74 [==============================] - 1040s 14s/step - loss: 0.9137 - accuracy: 0.5511 - val_loss: 0.6566 - val_accuracy: 0.6261\n",
            "Epoch 2/15\n",
            "74/74 [==============================] - 864s 12s/step - loss: 0.6523 - accuracy: 0.6462 - val_loss: 0.6242 - val_accuracy: 0.6870\n",
            "Epoch 3/15\n",
            "74/74 [==============================] - 861s 12s/step - loss: 0.6194 - accuracy: 0.6658 - val_loss: 0.6178 - val_accuracy: 0.6870\n",
            "Epoch 4/15\n",
            "74/74 [==============================] - 861s 12s/step - loss: 0.6167 - accuracy: 0.6712 - val_loss: 0.6262 - val_accuracy: 0.6630\n",
            "Epoch 5/15\n",
            "74/74 [==============================] - 873s 12s/step - loss: 0.5770 - accuracy: 0.7082 - val_loss: 0.5639 - val_accuracy: 0.7043\n",
            "Epoch 6/15\n",
            "74/74 [==============================] - 861s 12s/step - loss: 0.5324 - accuracy: 0.7462 - val_loss: 0.5187 - val_accuracy: 0.7543\n",
            "Epoch 7/15\n",
            "74/74 [==============================] - 862s 12s/step - loss: 0.4999 - accuracy: 0.7712 - val_loss: 0.4711 - val_accuracy: 0.7804\n",
            "Epoch 8/15\n",
            "74/74 [==============================] - 862s 12s/step - loss: 0.4564 - accuracy: 0.7995 - val_loss: 0.4751 - val_accuracy: 0.7674\n",
            "Epoch 9/15\n",
            "74/74 [==============================] - 861s 12s/step - loss: 0.4167 - accuracy: 0.8136 - val_loss: 0.4951 - val_accuracy: 0.8109\n"
          ]
        }
      ]
    },
    {
      "cell_type": "code",
      "metadata": {
        "colab": {
          "base_uri": "https://localhost:8080/"
        },
        "id": "vp80iRvDvsvX",
        "outputId": "1965fcbb-bc38-4eff-a1e3-e4957ff23746"
      },
      "source": [
        "\n",
        "model.history.history\n"
      ],
      "execution_count": null,
      "outputs": [
        {
          "output_type": "execute_result",
          "data": {
            "text/plain": [
              "{'accuracy': [0.551086962223053,\n",
              "  0.646195650100708,\n",
              "  0.66576087474823,\n",
              "  0.6711956262588501,\n",
              "  0.708152174949646,\n",
              "  0.7461956739425659,\n",
              "  0.771195650100708,\n",
              "  0.7994565367698669,\n",
              "  0.813586950302124],\n",
              " 'loss': [0.9136809706687927,\n",
              "  0.652274489402771,\n",
              "  0.619365930557251,\n",
              "  0.6166511178016663,\n",
              "  0.5770050883293152,\n",
              "  0.5323584675788879,\n",
              "  0.49988141655921936,\n",
              "  0.4563550651073456,\n",
              "  0.4166817367076874],\n",
              " 'val_accuracy': [0.626086950302124,\n",
              "  0.686956524848938,\n",
              "  0.686956524848938,\n",
              "  0.6630434989929199,\n",
              "  0.7043478488922119,\n",
              "  0.7543478012084961,\n",
              "  0.780434787273407,\n",
              "  0.7673913240432739,\n",
              "  0.810869574546814],\n",
              " 'val_loss': [0.6565501093864441,\n",
              "  0.6242243647575378,\n",
              "  0.6177787184715271,\n",
              "  0.6262443661689758,\n",
              "  0.5639370083808899,\n",
              "  0.5187068581581116,\n",
              "  0.4710609018802643,\n",
              "  0.4751318693161011,\n",
              "  0.49506258964538574]}"
            ]
          },
          "metadata": {},
          "execution_count": 30
        }
      ]
    },
    {
      "cell_type": "code",
      "metadata": {
        "id": "ndxHJNlWv6mB"
      },
      "source": [
        "losses = pd.DataFrame(model.history.history)"
      ],
      "execution_count": null,
      "outputs": []
    },
    {
      "cell_type": "code",
      "metadata": {
        "colab": {
          "base_uri": "https://localhost:8080/",
          "height": 332
        },
        "id": "S_OIloGgv6iV",
        "outputId": "fe922f8f-c016-4f07-8e51-44aa19254613"
      },
      "source": [
        "losses"
      ],
      "execution_count": null,
      "outputs": [
        {
          "output_type": "execute_result",
          "data": {
            "text/html": [
              "<div>\n",
              "<style scoped>\n",
              "    .dataframe tbody tr th:only-of-type {\n",
              "        vertical-align: middle;\n",
              "    }\n",
              "\n",
              "    .dataframe tbody tr th {\n",
              "        vertical-align: top;\n",
              "    }\n",
              "\n",
              "    .dataframe thead th {\n",
              "        text-align: right;\n",
              "    }\n",
              "</style>\n",
              "<table border=\"1\" class=\"dataframe\">\n",
              "  <thead>\n",
              "    <tr style=\"text-align: right;\">\n",
              "      <th></th>\n",
              "      <th>loss</th>\n",
              "      <th>accuracy</th>\n",
              "      <th>val_loss</th>\n",
              "      <th>val_accuracy</th>\n",
              "    </tr>\n",
              "  </thead>\n",
              "  <tbody>\n",
              "    <tr>\n",
              "      <th>0</th>\n",
              "      <td>0.913681</td>\n",
              "      <td>0.551087</td>\n",
              "      <td>0.656550</td>\n",
              "      <td>0.626087</td>\n",
              "    </tr>\n",
              "    <tr>\n",
              "      <th>1</th>\n",
              "      <td>0.652274</td>\n",
              "      <td>0.646196</td>\n",
              "      <td>0.624224</td>\n",
              "      <td>0.686957</td>\n",
              "    </tr>\n",
              "    <tr>\n",
              "      <th>2</th>\n",
              "      <td>0.619366</td>\n",
              "      <td>0.665761</td>\n",
              "      <td>0.617779</td>\n",
              "      <td>0.686957</td>\n",
              "    </tr>\n",
              "    <tr>\n",
              "      <th>3</th>\n",
              "      <td>0.616651</td>\n",
              "      <td>0.671196</td>\n",
              "      <td>0.626244</td>\n",
              "      <td>0.663043</td>\n",
              "    </tr>\n",
              "    <tr>\n",
              "      <th>4</th>\n",
              "      <td>0.577005</td>\n",
              "      <td>0.708152</td>\n",
              "      <td>0.563937</td>\n",
              "      <td>0.704348</td>\n",
              "    </tr>\n",
              "    <tr>\n",
              "      <th>5</th>\n",
              "      <td>0.532358</td>\n",
              "      <td>0.746196</td>\n",
              "      <td>0.518707</td>\n",
              "      <td>0.754348</td>\n",
              "    </tr>\n",
              "    <tr>\n",
              "      <th>6</th>\n",
              "      <td>0.499881</td>\n",
              "      <td>0.771196</td>\n",
              "      <td>0.471061</td>\n",
              "      <td>0.780435</td>\n",
              "    </tr>\n",
              "    <tr>\n",
              "      <th>7</th>\n",
              "      <td>0.456355</td>\n",
              "      <td>0.799457</td>\n",
              "      <td>0.475132</td>\n",
              "      <td>0.767391</td>\n",
              "    </tr>\n",
              "    <tr>\n",
              "      <th>8</th>\n",
              "      <td>0.416682</td>\n",
              "      <td>0.813587</td>\n",
              "      <td>0.495063</td>\n",
              "      <td>0.810870</td>\n",
              "    </tr>\n",
              "  </tbody>\n",
              "</table>\n",
              "</div>"
            ],
            "text/plain": [
              "       loss  accuracy  val_loss  val_accuracy\n",
              "0  0.913681  0.551087  0.656550      0.626087\n",
              "1  0.652274  0.646196  0.624224      0.686957\n",
              "2  0.619366  0.665761  0.617779      0.686957\n",
              "3  0.616651  0.671196  0.626244      0.663043\n",
              "4  0.577005  0.708152  0.563937      0.704348\n",
              "5  0.532358  0.746196  0.518707      0.754348\n",
              "6  0.499881  0.771196  0.471061      0.780435\n",
              "7  0.456355  0.799457  0.475132      0.767391\n",
              "8  0.416682  0.813587  0.495063      0.810870"
            ]
          },
          "metadata": {},
          "execution_count": 33
        }
      ]
    },
    {
      "cell_type": "code",
      "metadata": {
        "colab": {
          "base_uri": "https://localhost:8080/",
          "height": 284
        },
        "id": "jAZU7znZYeAz",
        "outputId": "fc0ad8fd-0363-452a-c698-da4cd61ab873"
      },
      "source": [
        "losses[['loss','val_loss']].plot()"
      ],
      "execution_count": null,
      "outputs": [
        {
          "output_type": "execute_result",
          "data": {
            "text/plain": [
              "<matplotlib.axes._subplots.AxesSubplot at 0x7ff215ce9590>"
            ]
          },
          "metadata": {},
          "execution_count": 34
        },
        {
          "output_type": "display_data",
          "data": {
            "image/png": "[encoded data removed]",
            "text/plain": [
              "<Figure size 432x288 with 1 Axes>"
            ]
          },
          "metadata": {
            "needs_background": "light"
          }
        }
      ]
    },
    {
      "cell_type": "code",
      "metadata": {
        "id": "0Rwv556CFmhv"
      },
      "source": [
        ""
      ],
      "execution_count": null,
      "outputs": []
    },
    {
      "cell_type": "code",
      "metadata": {
        "id": "oztFsu-xFmea"
      },
      "source": [
        ""
      ],
      "execution_count": null,
      "outputs": []
    }
  ]
}